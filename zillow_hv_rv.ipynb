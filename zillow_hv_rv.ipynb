{
 "cells": [
  {
   "cell_type": "code",
   "execution_count": 1,
   "id": "ef27acc2",
   "metadata": {
    "pycharm": {
     "is_executing": true,
     "name": "#%%\n"
    }
   },
   "outputs": [],
   "source": [
    "import os\n",
    "import time\n",
    "import logging\n",
    "import send2trash\n",
    "import pandas as pd\n",
    "from selenium import webdriver\n",
    "from selenium.webdriver.chrome.options import Options\n",
    "from selenium.webdriver.support.ui import WebDriverWait\n",
    "from selenium.webdriver.support import expected_conditions as EC\n",
    "from selenium.webdriver.common.by import By"
   ]
  },
  {
   "cell_type": "code",
   "execution_count": 2,
   "id": "4610e806",
   "metadata": {
    "pycharm": {
     "name": "#%%\n"
    }
   },
   "outputs": [],
   "source": [
    "logging.basicConfig(level=logging.INFO, format='%(asctime)s - %(levelname)s - %(message)s')\n",
    "logger = logging.getLogger(__name__)\n",
    "\n",
    "def rm_file(files):\n",
    "    for name in files:\n",
    "        filename = files[name][1]\n",
    "        path = os.path.expanduser(os.path.join(files[name][0], filename))\n",
    "        if os.path.exists(path):\n",
    "            logger.info(f\"Removing existing file: {path}\")\n",
    "            try:\n",
    "                # Rename the file to a temporary name\n",
    "                temp_path = os.path.splitext(path)[0] + \"_temp\" + os.path.splitext(path)[1]\n",
    "                os.rename(path, temp_path)\n",
    "                \n",
    "                # Delete the renamed file\n",
    "                send2trash.send2trash(temp_path)\n",
    "            except Exception as e:\n",
    "                logger.error(f\"Error removing file {path}: {e}\")\n",
    "        else:\n",
    "            logger.warning(f\"{path} does not exist\")\n"
   ]
  },
  {
   "cell_type": "code",
   "execution_count": 3,
   "id": "5b3b0502",
   "metadata": {
    "pycharm": {
     "name": "#%%\n"
    }
   },
   "outputs": [],
   "source": [
    "def download_file(files):\n",
    "    \n",
    "    # set Chrome options for headless mode\n",
    "    chrome_options = Options()\n",
    "    chrome_options.add_argument(\"--headless\")\n",
    "    chrome_options.add_argument(\"--disable-gpu\")  # Necessary for Windows, can be optional for other OS\n",
    "\n",
    "    # initialize a new Chrome browser instance\n",
    "    driver = webdriver.Chrome()\n",
    "\n",
    "    for name in files:\n",
    "        try:\n",
    "            # navigate to the download URL\n",
    "            url = files[name][3]\n",
    "            filename = files[name][1]\n",
    "            path = os.path.expanduser(os.path.join(files[name][0], filename))\n",
    "\n",
    "            # log start of download\n",
    "            logger.info(f\"download_file: started downloading file {filename} from URL {url}\")\n",
    "\n",
    "            driver.get(url)\n",
    "\n",
    "            # check if the file has finished downloading\n",
    "            WebDriverWait(driver, 300).until_not(lambda x: os.path.exists(path + '.crdownload'))\n",
    "            while not os.path.exists(path):\n",
    "                time.sleep(1)\n",
    "\n",
    "            # log end of download\n",
    "            logger.info(f\"download_file: finished downloading file {filename}\")\n",
    "        except Exception as e:\n",
    "            logger.error(f\"Error downloading file {filename} from URL {url}: {e}\")\n",
    "\n",
    "    # close the browser\n",
    "    driver.quit()\n"
   ]
  },
  {
   "cell_type": "code",
   "execution_count": 4,
   "id": "cf54fd64",
   "metadata": {
    "pycharm": {
     "name": "#%%\n"
    }
   },
   "outputs": [],
   "source": [
    "def data_flatten(output_path,path, filename, save_as):\n",
    "    # log start of function\n",
    "    logger.info(f\"data_flatten: started processing file {filename}\")\n",
    "    # open csv in pandas and pivot table\n",
    "    df_data = pd.read_csv(path+filename)\n",
    "    # melt DataFrame to pivot dates to become values\n",
    "    df_piv = df_data.melt(id_vars=df_data.columns[0:9], var_name='Date', value_name='Value')\n",
    "    df_regions = df_piv[['RegionID', 'SizeRank', 'RegionName', 'RegionType', 'StateName',\n",
    "       'State', 'City', 'Metro', 'CountyName']].drop_duplicates()\n",
    "    df = df_piv[['RegionID','Date', 'Value']]\n",
    "    df.columns = ['RegionID','Date',save_as]\n",
    "\n",
    "    # write data to CSV file\n",
    "    df.to_csv(f'./zillow_data/{save_as}.csv', index=False)\n",
    "    df.to_csv(f'{output_path}/{save_as}.csv', index=False)\n",
    "    \n",
    "    logger.info(f\"cleaned and saved {save_as}\")\n",
    "\n",
    "    return df"
   ]
  },
  {
   "cell_type": "code",
   "execution_count": 5,
   "id": "654687c5",
   "metadata": {
    "pycharm": {
     "name": "#%%\n"
    }
   },
   "outputs": [],
   "source": [
    "output_path = '~/OneDrive/Zillow_data'\n",
    "\n",
    "# Home Value\n",
    "hv_source_path = '~/Downloads/'\n",
    "hv_source_filename = 'Zip_zhvi_uc_sfrcondo_tier_0.33_0.67_sm_sa_month.csv'\n",
    "hv_data_name = 'HomeValue'\n",
    "hv_url_endpoint = 'https://files.zillowstatic.com/research/public_csvs/zhvi/Zip_zhvi_uc_sfrcondo_tier_0.33_0.67_sm_sa_month.csv?t=1683765775'\n",
    "\n",
    "# Rent Value\n",
    "rv_source_path = '~/Downloads/'\n",
    "rv_source_filename = 'Zip_zori_uc_sfrcondomfr_sm_month.csv'\n",
    "rv_data_name = 'RentValue'\n",
    "rv_url_endpoint = 'https://files.zillowstatic.com/research/public_csvs/zori/Zip_zori_uc_sfrcondomfr_sm_month.csv?t=1701182999' \n",
    "\n",
    "files = {\n",
    "    'home_value': [hv_source_path,\n",
    "                   hv_source_filename,\n",
    "                   hv_data_name, \n",
    "                   hv_url_endpoint],\n",
    "    \n",
    "    'rent_value':[rv_source_path,\n",
    "                  rv_source_filename,\n",
    "                  rv_data_name,\n",
    "                  rv_url_endpoint]}"
   ]
  },
  {
   "cell_type": "code",
   "execution_count": 6,
   "id": "ed7e199e",
   "metadata": {
    "pycharm": {
     "name": "#%%\n"
    }
   },
   "outputs": [
    {
     "name": "stderr",
     "output_type": "stream",
     "text": [
      "2023-11-28 14:23:39,022 - WARNING - /Users/nathan.demissie/Downloads/Zip_zhvi_uc_sfrcondo_tier_0.33_0.67_sm_sa_month.csv does not exist\n",
      "2023-11-28 14:23:39,022 - WARNING - /Users/nathan.demissie/Downloads/Zip_zori_uc_sfrcondomfr_sm_month.csv does not exist\n",
      "2023-11-28 14:23:41,255 - INFO - download_file: started downloading file Zip_zhvi_uc_sfrcondo_tier_0.33_0.67_sm_sa_month.csv from URL https://files.zillowstatic.com/research/public_csvs/zhvi/Zip_zhvi_uc_sfrcondo_tier_0.33_0.67_sm_sa_month.csv?t=1683765775\n",
      "2023-11-28 14:23:48,797 - INFO - download_file: finished downloading file Zip_zhvi_uc_sfrcondo_tier_0.33_0.67_sm_sa_month.csv\n",
      "2023-11-28 14:23:48,798 - INFO - download_file: started downloading file Zip_zori_uc_sfrcondomfr_sm_month.csv from URL https://files.zillowstatic.com/research/public_csvs/zori/Zip_zori_uc_sfrcondomfr_sm_month.csv?t=1701182999\n",
      "2023-11-28 14:23:50,322 - INFO - download_file: finished downloading file Zip_zori_uc_sfrcondomfr_sm_month.csv\n",
      "2023-11-28 14:23:50,418 - INFO - data_flatten: started processing file Zip_zhvi_uc_sfrcondo_tier_0.33_0.67_sm_sa_month.csv\n",
      "2023-11-28 14:24:10,954 - INFO - cleaned and saved HomeValue\n",
      "2023-11-28 14:24:11,043 - INFO - data_flatten: started processing file Zip_zori_uc_sfrcondomfr_sm_month.csv\n",
      "2023-11-28 14:24:12,638 - INFO - cleaned and saved RentValue\n"
     ]
    }
   ],
   "source": [
    "rm_file(files)\n",
    "download_file(files)\n",
    "for name in files:\n",
    "    data_flatten(output_path,*files[name][0:3])"
   ]
  }
 ],
 "metadata": {
  "kernelspec": {
   "display_name": "Python 3 (ipykernel)",
   "language": "python",
   "name": "python3"
  },
  "language_info": {
   "codemirror_mode": {
    "name": "ipython",
    "version": 3
   },
   "file_extension": ".py",
   "mimetype": "text/x-python",
   "name": "python",
   "nbconvert_exporter": "python",
   "pygments_lexer": "ipython3",
   "version": "3.9.6"
  }
 },
 "nbformat": 4,
 "nbformat_minor": 5
}
