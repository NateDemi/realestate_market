{
 "cells": [
  {
   "cell_type": "code",
   "execution_count": 18,
   "id": "cb533d8f",
   "metadata": {},
   "outputs": [],
   "source": [
    "import pandas as pd\n",
    "import pandas_datareader.data as web\n",
    "from datetime import datetime\n",
    "import logging\n",
    "import os\n",
    "\n",
    "# Configure logging\n",
    "logging.basicConfig(level=logging.DEBUG,format='%(asctime)s - %(levelname)s - %(message)s', filename='logs.log', filemode='w' )\n",
    "logger = logging.getLogger(__name__)\n",
    "\n",
    "start_date = '1970-01-01'\n",
    "end_date = datetime.today().strftime('%Y-%m-%d')\n",
    "\n",
    "def rm_file(filename):\n",
    "    path = os.path.expanduser(os.path.join(filename))\n",
    "    if os.path.exists(path):\n",
    "        logger.info(f\"Removing existing file: {path}\")\n",
    "        try:\n",
    "            # Rename the file to a temporary name\n",
    "            temp_path = os.path.splitext(path)[0] + \"_temp\" + os.path.splitext(path)[1]\n",
    "            os.rename(path, temp_path)\n",
    "\n",
    "            # Delete the renamed file\n",
    "            send2trash.send2trash(temp_path)\n",
    "        except Exception as e:\n",
    "            logger.error(f\"Error removing file {path}: {e}\")\n",
    "    else:\n",
    "        logger.warning(f\"{path} does not exist\")\n",
    "\n",
    "def get_interest_rate(output_path):\n",
    "    # retrieve historical data from Federal Reserve\n",
    "    interest_rates = web.DataReader('MORTGAGE30US', 'fred', start_date, end_date)\n",
    "    interest_rates_monthly = interest_rates.resample('M').last()\n",
    "    interest_rates_monthly.columns=['mortage_rate']\n",
    "    interest_rates_monthly.to_csv(output_path)\n",
    "    logger.info(\"Mortage rates updated\")\n",
    "    \n",
    "def main():\n",
    "    logger.info(\"Starting process ...\")\n",
    "    output_path = './fred_data/mortage_rates.csv'\n",
    "    rm_file(output_path)\n",
    "    get_interest_rate(output_path)\n",
    "    logger.info(\"Process compeleted\")\n",
    "\n",
    "main()"
   ]
  },
  {
   "cell_type": "code",
   "execution_count": 17,
   "id": "81930e54",
   "metadata": {},
   "outputs": [],
   "source": []
  },
  {
   "cell_type": "code",
   "execution_count": null,
   "id": "17d8b8ae",
   "metadata": {},
   "outputs": [],
   "source": []
  }
 ],
 "metadata": {
  "kernelspec": {
   "display_name": "Python 3 (ipykernel)",
   "language": "python",
   "name": "python3"
  },
  "language_info": {
   "codemirror_mode": {
    "name": "ipython",
    "version": 3
   },
   "file_extension": ".py",
   "mimetype": "text/x-python",
   "name": "python",
   "nbconvert_exporter": "python",
   "pygments_lexer": "ipython3",
   "version": "3.9.6"
  }
 },
 "nbformat": 4,
 "nbformat_minor": 5
}
